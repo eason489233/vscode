{
 "cells": [
  {
   "cell_type": "code",
   "execution_count": 2,
   "metadata": {},
   "outputs": [
    {
     "name": "stdout",
     "output_type": "stream",
     "text": [
      "3\n",
      "(3, 1)\n",
      "[4 5 6]\n",
      "[2 5]\n",
      "[[1 2]\n",
      " [4 5]]\n",
      "[[2 3]\n",
      " [5 6]]\n",
      "[[2 3]\n",
      " [5 6]]\n"
     ]
    }
   ],
   "source": [
    "import numpy as np\n",
    "\n",
    "a = np.array([1, 2, 3]) # a vector has no direction\n",
    "A = np.array([[1, 2, 3]]) # a 1 x 3 array that can be transposed\n",
    "a_T = a[:, np.newaxis] # a' although a has no direction (3 變成3,加在後面的意思)\n",
    "A_T = A.T # A'\n",
    "B = A.reshape(-1, 1) # 行列轉換\n",
    "C = np.array([1, 2, 3], ndmin = 2) # convert a to A\n",
    "print(np.size(a))  # == print(a.size) number of elements in a\n",
    "print(np.shape(A_T))  # == print(A_T.shape) , array dimension\n",
    " \n",
    "D = np.array([[1, 2, 3],[4, 5, 6]])\n",
    "print(D[1]) # D[1] = D[1,:] # second row and all columns\n",
    "print(D[:, 1]) #逗號前面先往下看，逗號後面往右邊看\n",
    "print(D[:, 0:-1])\n",
    "print(D[:, 1:])\n",
    "print(D[:, -2:])\n"
   ]
  },
  {
   "cell_type": "code",
   "execution_count": 3,
   "metadata": {},
   "outputs": [
    {
     "name": "stdout",
     "output_type": "stream",
     "text": [
      "[[1 2 3]\n",
      " [4 5 6]]\n"
     ]
    }
   ],
   "source": [
    "# vector concatenation\n",
    "va = np.array([1, 2, 3])\n",
    "vb = np.array([4, 5, 6])\n",
    "vc = np.concatenate((va, vb), axis = 0) #左右連起來# flatten a, b; try axis=1\n",
    "vd = np.append(va, vb)\n",
    "ve = np.hstack((va, vb)) \n",
    "vF = np.vstack((va, vb))#上下堆起來\n",
    "vFF=vF.flatten()#全部弄成一列\n",
    "vg = np.r_[va, vb]\n",
    "vG = np.c_[va, vb]\n",
    "vH = (va, vb) # a tuple\n",
    "print(vF)"
   ]
  },
  {
   "cell_type": "code",
   "execution_count": 2,
   "metadata": {},
   "outputs": [],
   "source": [
    "#matrix concatenation\n",
    " \n",
    "ma = np.array([[1, 2, 3]]) # 1 x 3\n",
    "mb = np.array([[4, 5, 6]]) # 1 x 3\n",
    "mc = np.hstack((ma, mb))   # 1 x 6\n",
    "  \n",
    "# Vertically, concatenate row-wisely \n",
    "mC = np.concatenate((ma, mb), axis = 0) # 2 x 3 #axis=0 往下排\n",
    "mD = np.r_[ma, mb] # 2 x 3\n",
    "mE = np.vstack((ma,mb)) #2 x 3\n",
    "  \n",
    "# Horizontally, concatenate column-wisely\n",
    "mF = np.concatenate((ma.T, mb.T), axis =1) # 3 x 2 #axis=1往右排\n",
    "mG = np.hstack((ma.T, mb.T)) # 3 x 2\n",
    "mH = np.c_[ma.T, mb.T] # 3 x 2"
   ]
  },
  {
   "cell_type": "code",
   "execution_count": 4,
   "metadata": {},
   "outputs": [
    {
     "name": "stdout",
     "output_type": "stream",
     "text": [
      "[[1 3 2]\n",
      " [6 5 4]]\n",
      "6\n",
      "[6 5 4]\n",
      "[3 6]\n"
     ]
    }
   ],
   "source": [
    "S = np.array([[1, 3, 2], [6, 5, 4]])\n",
    "print(S)\n",
    "print(S.max())\n",
    "print(S.max(0)) # column max\n",
    "print(np.max(S, axis = 1)) # row max\n",
    " \n",
    "a = S.flatten() # turn into vector\n",
    "b = S.flatten('F') # turn into vector column-wise #第一個排完 往下抓，再去第二行\n",
    "S[S < 3] = 0 # check what S looks like\n",
    " \n",
    "c = [1, 2, 3, 4]\n",
    "C = np.tile(c,(5,1)) # 5 x 4 matrix\n",
    "d = np.reshape(C, (-1, 1)) # convert to Column vector\n"
   ]
  },
  {
   "cell_type": "code",
   "execution_count": 5,
   "metadata": {},
   "outputs": [
    {
     "name": "stdout",
     "output_type": "stream",
     "text": [
      "[[1]\n",
      " [2]\n",
      " [3]]\n"
     ]
    }
   ],
   "source": [
    "import numpy as np\n",
    "\n",
    "a = np.array([[1, 2, 3]])\n",
    "a_T=a.T\n",
    "print(a_T)"
   ]
  },
  {
   "cell_type": "code",
   "execution_count": 12,
   "metadata": {},
   "outputs": [],
   "source": []
  },
  {
   "cell_type": "code",
   "execution_count": null,
   "metadata": {},
   "outputs": [],
   "source": []
  }
 ],
 "metadata": {
  "kernelspec": {
   "display_name": "Python 3.10.7 64-bit",
   "language": "python",
   "name": "python3"
  },
  "language_info": {
   "codemirror_mode": {
    "name": "ipython",
    "version": 3
   },
   "file_extension": ".py",
   "mimetype": "text/x-python",
   "name": "python",
   "nbconvert_exporter": "python",
   "pygments_lexer": "ipython3",
   "version": "3.10.7"
  },
  "orig_nbformat": 4,
  "vscode": {
   "interpreter": {
    "hash": "aee8b7b246df8f9039afb4144a1f6fd8d2ca17a180786b69acc140d282b71a49"
   }
  }
 },
 "nbformat": 4,
 "nbformat_minor": 2
}
